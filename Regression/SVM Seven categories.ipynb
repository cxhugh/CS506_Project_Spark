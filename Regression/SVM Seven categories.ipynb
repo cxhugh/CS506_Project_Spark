{
 "cells": [
  {
   "cell_type": "code",
   "execution_count": 1,
   "metadata": {},
   "outputs": [
    {
     "name": "stderr",
     "output_type": "stream",
     "text": [
      "/Library/Frameworks/Python.framework/Versions/3.5/lib/python3.5/site-packages/sklearn/cross_validation.py:41: DeprecationWarning: This module was deprecated in version 0.18 in favor of the model_selection module into which all the refactored classes and functions are moved. Also note that the interface of the new CV iterators are different from that of this module. This module will be removed in 0.20.\n",
      "  \"This module will be removed in 0.20.\", DeprecationWarning)\n"
     ]
    }
   ],
   "source": [
    "import numpy as np\n",
    "import pandas as pd\n",
    "import matplotlib.pyplot as plt\n",
    "from sklearn import svm\n",
    "from sklearn.linear_model import LogisticRegression\n",
    "from sklearn.cross_validation import train_test_split\n",
    "from sklearn.model_selection import train_test_split\n",
    "import sklearn.utils as utils\n",
    "\n"
   ]
  },
  {
   "cell_type": "code",
   "execution_count": 2,
   "metadata": {},
   "outputs": [
    {
     "name": "stderr",
     "output_type": "stream",
     "text": [
      "/Library/Frameworks/Python.framework/Versions/3.5/lib/python3.5/site-packages/IPython/core/interactiveshell.py:2728: DtypeWarning: Columns (1) have mixed types. Specify dtype option on import or set low_memory=False.\n",
      "  interactivity=interactivity, compiler=compiler, result=result)\n"
     ]
    },
    {
     "name": "stdout",
     "output_type": "stream",
     "text": [
      "There are 316333 entries in the dataframe\n"
     ]
    },
    {
     "data": {
      "text/html": [
       "<div>\n",
       "<style scoped>\n",
       "    .dataframe tbody tr th:only-of-type {\n",
       "        vertical-align: middle;\n",
       "    }\n",
       "\n",
       "    .dataframe tbody tr th {\n",
       "        vertical-align: top;\n",
       "    }\n",
       "\n",
       "    .dataframe thead th {\n",
       "        text-align: right;\n",
       "    }\n",
       "</style>\n",
       "<table border=\"1\" class=\"dataframe\">\n",
       "  <thead>\n",
       "    <tr style=\"text-align: right;\">\n",
       "      <th></th>\n",
       "      <th>PID</th>\n",
       "      <th>ZIPCODE</th>\n",
       "      <th>AV_TOTAL</th>\n",
       "      <th>YR_BUILT</th>\n",
       "      <th>LIVING_AREA</th>\n",
       "      <th>HEAT_TYP</th>\n",
       "      <th>Year</th>\n",
       "      <th>LU_A</th>\n",
       "      <th>LU_CD</th>\n",
       "      <th>LU_E</th>\n",
       "      <th>...</th>\n",
       "      <th>STRUCTURE_CLASS_R</th>\n",
       "      <th>OWN_OCC_N</th>\n",
       "      <th>OWN_OCC_Y</th>\n",
       "      <th>RorU_R</th>\n",
       "      <th>RorU_U</th>\n",
       "      <th>AC_C</th>\n",
       "      <th>AC_D</th>\n",
       "      <th>AC_E</th>\n",
       "      <th>AC_F</th>\n",
       "      <th>AC_N</th>\n",
       "    </tr>\n",
       "  </thead>\n",
       "  <tbody>\n",
       "    <tr>\n",
       "      <th>0</th>\n",
       "      <td>2205668000_</td>\n",
       "      <td>2135</td>\n",
       "      <td>604700</td>\n",
       "      <td>1920</td>\n",
       "      <td>2834</td>\n",
       "      <td>W</td>\n",
       "      <td>2014</td>\n",
       "      <td>0</td>\n",
       "      <td>0</td>\n",
       "      <td>0</td>\n",
       "      <td>...</td>\n",
       "      <td>1</td>\n",
       "      <td>1</td>\n",
       "      <td>0</td>\n",
       "      <td>1</td>\n",
       "      <td>0</td>\n",
       "      <td>0</td>\n",
       "      <td>0</td>\n",
       "      <td>0</td>\n",
       "      <td>0</td>\n",
       "      <td>1</td>\n",
       "    </tr>\n",
       "    <tr>\n",
       "      <th>1</th>\n",
       "      <td>2205664000_</td>\n",
       "      <td>2135</td>\n",
       "      <td>567000</td>\n",
       "      <td>1920</td>\n",
       "      <td>2952</td>\n",
       "      <td>F</td>\n",
       "      <td>2014</td>\n",
       "      <td>0</td>\n",
       "      <td>0</td>\n",
       "      <td>0</td>\n",
       "      <td>...</td>\n",
       "      <td>1</td>\n",
       "      <td>0</td>\n",
       "      <td>1</td>\n",
       "      <td>1</td>\n",
       "      <td>0</td>\n",
       "      <td>0</td>\n",
       "      <td>0</td>\n",
       "      <td>0</td>\n",
       "      <td>0</td>\n",
       "      <td>1</td>\n",
       "    </tr>\n",
       "    <tr>\n",
       "      <th>2</th>\n",
       "      <td>2205663001_</td>\n",
       "      <td>2135</td>\n",
       "      <td>477600</td>\n",
       "      <td>1920</td>\n",
       "      <td>2390</td>\n",
       "      <td>W</td>\n",
       "      <td>2014</td>\n",
       "      <td>0</td>\n",
       "      <td>0</td>\n",
       "      <td>0</td>\n",
       "      <td>...</td>\n",
       "      <td>1</td>\n",
       "      <td>0</td>\n",
       "      <td>1</td>\n",
       "      <td>1</td>\n",
       "      <td>0</td>\n",
       "      <td>0</td>\n",
       "      <td>0</td>\n",
       "      <td>0</td>\n",
       "      <td>0</td>\n",
       "      <td>1</td>\n",
       "    </tr>\n",
       "    <tr>\n",
       "      <th>3</th>\n",
       "      <td>2205663000_</td>\n",
       "      <td>2135</td>\n",
       "      <td>442700</td>\n",
       "      <td>1920</td>\n",
       "      <td>2347</td>\n",
       "      <td>W</td>\n",
       "      <td>2014</td>\n",
       "      <td>0</td>\n",
       "      <td>0</td>\n",
       "      <td>0</td>\n",
       "      <td>...</td>\n",
       "      <td>1</td>\n",
       "      <td>0</td>\n",
       "      <td>1</td>\n",
       "      <td>1</td>\n",
       "      <td>0</td>\n",
       "      <td>0</td>\n",
       "      <td>0</td>\n",
       "      <td>0</td>\n",
       "      <td>0</td>\n",
       "      <td>1</td>\n",
       "    </tr>\n",
       "    <tr>\n",
       "      <th>4</th>\n",
       "      <td>2205662020_</td>\n",
       "      <td>2135</td>\n",
       "      <td>549000</td>\n",
       "      <td>1910</td>\n",
       "      <td>2545</td>\n",
       "      <td>W</td>\n",
       "      <td>2014</td>\n",
       "      <td>0</td>\n",
       "      <td>0</td>\n",
       "      <td>0</td>\n",
       "      <td>...</td>\n",
       "      <td>1</td>\n",
       "      <td>0</td>\n",
       "      <td>1</td>\n",
       "      <td>1</td>\n",
       "      <td>0</td>\n",
       "      <td>0</td>\n",
       "      <td>0</td>\n",
       "      <td>0</td>\n",
       "      <td>0</td>\n",
       "      <td>1</td>\n",
       "    </tr>\n",
       "  </tbody>\n",
       "</table>\n",
       "<p>5 rows × 30 columns</p>\n",
       "</div>"
      ],
      "text/plain": [
       "           PID  ZIPCODE  AV_TOTAL  YR_BUILT  LIVING_AREA HEAT_TYP  Year  LU_A  \\\n",
       "0  2205668000_     2135    604700      1920         2834        W  2014     0   \n",
       "1  2205664000_     2135    567000      1920         2952        F  2014     0   \n",
       "2  2205663001_     2135    477600      1920         2390        W  2014     0   \n",
       "3  2205663000_     2135    442700      1920         2347        W  2014     0   \n",
       "4  2205662020_     2135    549000      1910         2545        W  2014     0   \n",
       "\n",
       "   LU_CD  LU_E  ...   STRUCTURE_CLASS_R  OWN_OCC_N  OWN_OCC_Y  RorU_R  RorU_U  \\\n",
       "0      0     0  ...                   1          1          0       1       0   \n",
       "1      0     0  ...                   1          0          1       1       0   \n",
       "2      0     0  ...                   1          0          1       1       0   \n",
       "3      0     0  ...                   1          0          1       1       0   \n",
       "4      0     0  ...                   1          0          1       1       0   \n",
       "\n",
       "   AC_C  AC_D  AC_E  AC_F  AC_N  \n",
       "0     0     0     0     0     1  \n",
       "1     0     0     0     0     1  \n",
       "2     0     0     0     0     1  \n",
       "3     0     0     0     0     1  \n",
       "4     0     0     0     0     1  \n",
       "\n",
       "[5 rows x 30 columns]"
      ]
     },
     "execution_count": 2,
     "metadata": {},
     "output_type": "execute_result"
    }
   ],
   "source": [
    "df = pd.read_csv(\"data/Final_cleaned_up_data.csv\")\n",
    "df = df.drop(['Unnamed: 0'], axis=1)\n",
    "df = pd.get_dummies(df, columns=['LU','STRUCTURE_CLASS','OWN_OCC','RorU','AC'])\n",
    "print(\"There are {} entries in the dataframe\".format(len(df)))\n",
    "df.head()"
   ]
  },
  {
   "cell_type": "code",
   "execution_count": 3,
   "metadata": {},
   "outputs": [
    {
     "name": "stderr",
     "output_type": "stream",
     "text": [
      "/Library/Frameworks/Python.framework/Versions/3.5/lib/python3.5/site-packages/sklearn/utils/validation.py:578: DataConversionWarning: A column-vector y was passed when a 1d array was expected. Please change the shape of y to (n_samples, ), for example using ravel().\n",
      "  y = column_or_1d(y, warn=True)\n"
     ]
    },
    {
     "data": {
      "text/plain": [
       "SVC(C=1.0, cache_size=200, class_weight=None, coef0=0.0,\n",
       "  decision_function_shape='ovr', degree=3, gamma='auto', kernel='linear',\n",
       "  max_iter=-1, probability=False, random_state=None, shrinking=True,\n",
       "  tol=0.001, verbose=False)"
      ]
     },
     "execution_count": 3,
     "metadata": {},
     "output_type": "execute_result"
    }
   ],
   "source": [
    "X = df[['YR_BUILT', 'LIVING_AREA',\n",
    "        'LU_A','LU_CD','LU_E','LU_EA','LU_R1','LU_R2','LU_R3','LU_RC',\n",
    "        'STRUCTURE_CLASS_1','STRUCTURE_CLASS_A','STRUCTURE_CLASS_B',\n",
    "        'STRUCTURE_CLASS_C','STRUCTURE_CLASS_D','STRUCTURE_CLASS_R',\n",
    "        'OWN_OCC_N','OWN_OCC_Y',\n",
    "        'RorU_R','RorU_U',\n",
    "        'AC_C','AC_D','AC_E','AC_F','AC_N']]\n",
    "y = df[[ 'HEAT_TYP']]\n",
    "\n",
    "X = X.as_matrix()\n",
    "y = y.as_matrix()\n",
    "X, y = utils.shuffle(X, y, random_state=1)\n",
    "\n",
    "train_set_size = 1000\n",
    "X_train = X[:train_set_size]  # selects first 100 rows (examples) for train set\n",
    "y_train = y[:train_set_size]\n",
    "X_test = X[train_set_size:]   # selects from row 100 until the last one for test set\n",
    "y_test = y[train_set_size:]\n",
    "\n",
    "svc = svm.SVC(kernel='linear')\n",
    "svc.fit(X_train,y_train)"
   ]
  },
  {
   "cell_type": "code",
   "execution_count": 4,
   "metadata": {},
   "outputs": [
    {
     "name": "stdout",
     "output_type": "stream",
     "text": [
      "Accuracy of SVM test set: 0.721783003999\n"
     ]
    }
   ],
   "source": [
    "y_pred_test = svc.predict(X_test)\n",
    "print(\"Accuracy of SVM test set:\", svc.score(X_test, y_test))"
   ]
  }
 ],
 "metadata": {
  "kernelspec": {
   "display_name": "Python 3",
   "language": "python",
   "name": "python3"
  },
  "language_info": {
   "codemirror_mode": {
    "name": "ipython",
    "version": 3
   },
   "file_extension": ".py",
   "mimetype": "text/x-python",
   "name": "python",
   "nbconvert_exporter": "python",
   "pygments_lexer": "ipython3",
   "version": "3.5.1"
  }
 },
 "nbformat": 4,
 "nbformat_minor": 2
}
