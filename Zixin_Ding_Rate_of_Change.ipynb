{
 "cells": [
  {
   "cell_type": "code",
   "execution_count": 26,
   "metadata": {},
   "outputs": [
    {
     "name": "stderr",
     "output_type": "stream",
     "text": [
      "C:\\Users\\cindy\\Anaconda3\\lib\\site-packages\\IPython\\core\\interactiveshell.py:2698: DtypeWarning: Columns (15,46,53,55) have mixed types. Specify dtype option on import or set low_memory=False.\n",
      "  interactivity=interactivity, compiler=compiler, result=result)\n",
      "C:\\Users\\cindy\\Anaconda3\\lib\\site-packages\\IPython\\core\\interactiveshell.py:2698: DtypeWarning: Columns (60,63) have mixed types. Specify dtype option on import or set low_memory=False.\n",
      "  interactivity=interactivity, compiler=compiler, result=result)\n",
      "C:\\Users\\cindy\\Anaconda3\\lib\\site-packages\\IPython\\core\\interactiveshell.py:2698: DtypeWarning: Columns (15,60,63) have mixed types. Specify dtype option on import or set low_memory=False.\n",
      "  interactivity=interactivity, compiler=compiler, result=result)\n"
     ]
    }
   ],
   "source": [
    "# import cell\n",
    "import pandas as pd\n",
    "import numpy as np\n",
    "\n",
    "data14 = pd.read_csv(\"property-assessment-fy2014.csv\")\n",
    "data14 = data14[['Parcel_ID', 'R_HEAT_TYP']]\n",
    "\n",
    "data15 = pd.read_csv(\"property-assessment-fy2015.csv\")\n",
    "data15 = data15[['PID', 'R_HEAT_TYP']]\n",
    "\n",
    "data16 = pd.read_csv(\"property-assessment-fy2016.csv\")\n",
    "data16 = data16[['PID', 'R_HEAT_TYP']]\n",
    "\n",
    "\n",
    "data17 = pd.read_csv(\"property-assessment-fy2017.csv\")\n",
    "data17 = data17[['PID', 'R_HEAT_TYP']]\n",
    "\n",
    "\n",
    "data18 = pd.read_csv(\"ast2018full.csv\")\n",
    "data18 = data18[['PID', 'R_HEAT_TYP']]\n"
   ]
  },
  {
   "cell_type": "code",
   "execution_count": 27,
   "metadata": {},
   "outputs": [
    {
     "data": {
      "text/plain": [
       "892"
      ]
     },
     "execution_count": 27,
     "metadata": {},
     "output_type": "execute_result"
    }
   ],
   "source": [
    "len(data14.loc[data14[\"R_HEAT_TYP\"] == \"S\"].index)"
   ]
  },
  {
   "cell_type": "code",
   "execution_count": 28,
   "metadata": {},
   "outputs": [
    {
     "name": "stdout",
     "output_type": "stream",
     "text": [
      "['Space Heater', '-1.46%', '-2.50%', '-5.02%', '-3.44%', '-11.88%']\n"
     ]
    }
   ],
   "source": [
    "# rate of increasing for heattype\n",
    "# compare the change rate for two near years' heat type\n",
    "rateofs = [\"Space Heater\"]\n",
    "rateofw = [\"Hot Water\"]\n",
    "rateofe = [\"Electric\"]\n",
    "rateofp = [\"Heat Pump\"]\n",
    "rateoff = [\"Forced Air\"]\n",
    "\n",
    "rate = [rateofs, rateofw, rateofe, rateofp, rateoff]\n",
    "fivetypes = [\"S\", \"W\", \"E\", \"P\", \"F\"]\n",
    "fivedata = [data14, data15, data16, data17, data18]\n",
    "for i in range(len(fivetypes)): # compare 4 years\n",
    "    ty = fivetypes[i]\n",
    "    for j in range(len(fivedata)-1):\n",
    "        padf = fivedata[j]\n",
    "        past = len(padf.loc[padf[\"R_HEAT_TYP\"] == ty].index)\n",
    "        cudf = fivedata[j+1]\n",
    "        curr = len(cudf.loc[cudf[\"R_HEAT_TYP\"] == ty].index)\n",
    "        rateo = '{:.2%}'.format((curr-past)/past)\n",
    "        rate[i].append(rateo)\n",
    "    padf = fivedata[0]\n",
    "    past = len(padf.loc[padf[\"R_HEAT_TYP\"] == ty].index)\n",
    "    cudf = fivedata[4]\n",
    "    curr = len(cudf.loc[cudf[\"R_HEAT_TYP\"] == ty].index)\n",
    "    rateo = '{:.2%}'.format((curr-past)/past)\n",
    "    rate[i].append(rateo)\n",
    "print(rateofs)"
   ]
  },
  {
   "cell_type": "code",
   "execution_count": 29,
   "metadata": {},
   "outputs": [
    {
     "data": {
      "text/plain": [
       "['Total Unique Parcel ID', '1.17%', '0.64%', '1.03%', '1.16%', '4.06%']"
      ]
     },
     "execution_count": 29,
     "metadata": {},
     "output_type": "execute_result"
    }
   ],
   "source": [
    "# for all data\n",
    "# unique parcel id\n",
    "percents = [\"Total Unique Parcel ID\"]\n",
    "for i in range(len(fivedata)-1):\n",
    "    if i == 0:\n",
    "        past = len(fivedata[i].Parcel_ID.unique())\n",
    "    else:\n",
    "        past = len(fivedata[i].PID.unique())\n",
    "        \n",
    "    current = len(fivedata[i+1].PID.unique())\n",
    "    percent = '{:.2%}'.format((current-past)/past)\n",
    "    percents.append(percent)\n",
    "past0 = len(fivedata[0].Parcel_ID.unique())\n",
    "current0 = len(fivedata[4].PID.unique())\n",
    "percent = '{:.2%}'.format((current0-past0)/past0)\n",
    "percents.append(percent)\n",
    "percents"
   ]
  },
  {
   "cell_type": "code",
   "execution_count": 30,
   "metadata": {},
   "outputs": [
    {
     "data": {
      "text/html": [
       "<div>\n",
       "<style scoped>\n",
       "    .dataframe tbody tr th:only-of-type {\n",
       "        vertical-align: middle;\n",
       "    }\n",
       "\n",
       "    .dataframe tbody tr th {\n",
       "        vertical-align: top;\n",
       "    }\n",
       "\n",
       "    .dataframe thead th {\n",
       "        text-align: right;\n",
       "    }\n",
       "</style>\n",
       "<table border=\"1\" class=\"dataframe\">\n",
       "  <thead>\n",
       "    <tr style=\"text-align: right;\">\n",
       "      <th></th>\n",
       "      <th>0</th>\n",
       "      <th>1</th>\n",
       "      <th>2</th>\n",
       "      <th>3</th>\n",
       "      <th>4</th>\n",
       "      <th>5</th>\n",
       "    </tr>\n",
       "  </thead>\n",
       "  <tbody>\n",
       "    <tr>\n",
       "      <th>0</th>\n",
       "      <td>Residential Heat TYPE</td>\n",
       "      <td>2014-2015</td>\n",
       "      <td>2015-2016</td>\n",
       "      <td>2016-2017</td>\n",
       "      <td>2017-2018</td>\n",
       "      <td>2014-2018</td>\n",
       "    </tr>\n",
       "    <tr>\n",
       "      <th>1</th>\n",
       "      <td>Space Heater</td>\n",
       "      <td>-1.46%</td>\n",
       "      <td>-2.50%</td>\n",
       "      <td>-5.02%</td>\n",
       "      <td>-3.44%</td>\n",
       "      <td>-11.88%</td>\n",
       "    </tr>\n",
       "    <tr>\n",
       "      <th>2</th>\n",
       "      <td>Hot Water</td>\n",
       "      <td>-0.13%</td>\n",
       "      <td>-0.67%</td>\n",
       "      <td>-0.43%</td>\n",
       "      <td>-0.55%</td>\n",
       "      <td>-1.77%</td>\n",
       "    </tr>\n",
       "    <tr>\n",
       "      <th>3</th>\n",
       "      <td>Electric</td>\n",
       "      <td>-0.49%</td>\n",
       "      <td>-1.15%</td>\n",
       "      <td>-1.49%</td>\n",
       "      <td>-1.85%</td>\n",
       "      <td>-4.89%</td>\n",
       "    </tr>\n",
       "    <tr>\n",
       "      <th>4</th>\n",
       "      <td>Heat Pump</td>\n",
       "      <td>-3.08%</td>\n",
       "      <td>-0.79%</td>\n",
       "      <td>0.00%</td>\n",
       "      <td>1.60%</td>\n",
       "      <td>-2.31%</td>\n",
       "    </tr>\n",
       "    <tr>\n",
       "      <th>5</th>\n",
       "      <td>Forced Air</td>\n",
       "      <td>1.54%</td>\n",
       "      <td>0.89%</td>\n",
       "      <td>1.91%</td>\n",
       "      <td>1.03%</td>\n",
       "      <td>5.48%</td>\n",
       "    </tr>\n",
       "    <tr>\n",
       "      <th>6</th>\n",
       "      <td>Total Unique Parcel ID</td>\n",
       "      <td>1.17%</td>\n",
       "      <td>0.64%</td>\n",
       "      <td>1.03%</td>\n",
       "      <td>1.16%</td>\n",
       "      <td>4.06%</td>\n",
       "    </tr>\n",
       "  </tbody>\n",
       "</table>\n",
       "</div>"
      ],
      "text/plain": [
       "                        0          1          2          3          4  \\\n",
       "0   Residential Heat TYPE  2014-2015  2015-2016  2016-2017  2017-2018   \n",
       "1            Space Heater     -1.46%     -2.50%     -5.02%     -3.44%   \n",
       "2               Hot Water     -0.13%     -0.67%     -0.43%     -0.55%   \n",
       "3                Electric     -0.49%     -1.15%     -1.49%     -1.85%   \n",
       "4               Heat Pump     -3.08%     -0.79%      0.00%      1.60%   \n",
       "5              Forced Air      1.54%      0.89%      1.91%      1.03%   \n",
       "6  Total Unique Parcel ID      1.17%      0.64%      1.03%      1.16%   \n",
       "\n",
       "           5  \n",
       "0  2014-2018  \n",
       "1    -11.88%  \n",
       "2     -1.77%  \n",
       "3     -4.89%  \n",
       "4     -2.31%  \n",
       "5      5.48%  \n",
       "6      4.06%  "
      ]
     },
     "execution_count": 30,
     "metadata": {},
     "output_type": "execute_result"
    }
   ],
   "source": [
    "import tables\n",
    "from tables import *\n",
    "import sys\n",
    "from astropy.table import Table\n",
    "\n",
    "t = [[\"Residential Heat TYPE\", \"2014-2015\", \"2015-2016\", \"2016-2017\", \"2017-2018\", \"2014-2018\"]]\n",
    "for i in rate:\n",
    "    t.append(i)\n",
    "t.append(percents)\n",
    "# from top to bottom \n",
    "# Space Water\n",
    "# Hot Water\n",
    "# Electric\n",
    "# Heat Pump\n",
    "# Forced Air\n",
    "pd.DataFrame(t)"
   ]
  },
  {
   "cell_type": "code",
   "execution_count": 32,
   "metadata": {},
   "outputs": [],
   "source": [
    "t1 = pd.DataFrame(t)\n",
    "t1.to_clipboard()"
   ]
  },
  {
   "cell_type": "code",
   "execution_count": 33,
   "metadata": {},
   "outputs": [
    {
     "name": "stderr",
     "output_type": "stream",
     "text": [
      "C:\\Users\\cindy\\Anaconda3\\lib\\site-packages\\IPython\\core\\interactiveshell.py:2698: DtypeWarning: Columns (15,46,53,55) have mixed types. Specify dtype option on import or set low_memory=False.\n",
      "  interactivity=interactivity, compiler=compiler, result=result)\n",
      "C:\\Users\\cindy\\Anaconda3\\lib\\site-packages\\IPython\\core\\interactiveshell.py:2698: DtypeWarning: Columns (60,63) have mixed types. Specify dtype option on import or set low_memory=False.\n",
      "  interactivity=interactivity, compiler=compiler, result=result)\n",
      "C:\\Users\\cindy\\Anaconda3\\lib\\site-packages\\IPython\\core\\interactiveshell.py:2698: DtypeWarning: Columns (15,60,63) have mixed types. Specify dtype option on import or set low_memory=False.\n",
      "  interactivity=interactivity, compiler=compiler, result=result)\n"
     ]
    }
   ],
   "source": [
    "#condo heat type\n",
    "#based on column U_HEAT_TYP\n",
    "condo14 = pd.read_csv(\"property-assessment-fy2014.csv\")\n",
    "condo14 = condo14[['Parcel_ID', 'U_HEAT_TYP']]\n",
    "\n",
    "condo15 = pd.read_csv(\"property-assessment-fy2015.csv\")\n",
    "condo15 = condo15[['PID', 'U_HEAT_TYP']]\n",
    "\n",
    "condo16 = pd.read_csv(\"property-assessment-fy2016.csv\")\n",
    "condo16 = condo16[['PID', 'U_HEAT_TYP']]\n",
    "\n",
    "\n",
    "condo17 = pd.read_csv(\"property-assessment-fy2017.csv\")\n",
    "condo17 = condo17[['PID', 'U_HEAT_TYP']]\n",
    "\n",
    "\n",
    "condo18 = pd.read_csv(\"ast2018full.csv\")\n",
    "condo18 = condo18[['PID', 'U_HEAT_TYP']]"
   ]
  },
  {
   "cell_type": "code",
   "execution_count": 38,
   "metadata": {},
   "outputs": [
    {
     "data": {
      "text/plain": [
       "103"
      ]
     },
     "execution_count": 38,
     "metadata": {},
     "output_type": "execute_result"
    }
   ],
   "source": [
    "len(condo14.loc[condo14[\"U_HEAT_TYP\"] == \"S\"].index)"
   ]
  },
  {
   "cell_type": "code",
   "execution_count": 39,
   "metadata": {},
   "outputs": [
    {
     "name": "stdout",
     "output_type": "stream",
     "text": [
      "['Space Heater', '-0.97%', '-0.98%', '-0.99%', '-4.00%', '-6.80%']\n"
     ]
    }
   ],
   "source": [
    "# rate of increasing for heattype\n",
    "# compare the change rate for two near years' heat type\n",
    "rateofs = [\"Space Heater\"]\n",
    "rateofw = [\"Hot Water\"]\n",
    "rateofe = [\"Electric\"]\n",
    "rateofp = [\"Heat Pump\"]\n",
    "rateoff = [\"Forced Air\"]\n",
    "\n",
    "rate = [rateofs, rateofw, rateofe, rateofp, rateoff]\n",
    "fivetypes = [\"S\", \"W\", \"E\", \"P\", \"F\"]\n",
    "fivedata = [condo14, condo15, condo16, condo17, condo18]\n",
    "for i in range(len(fivetypes)): # compare 4 years\n",
    "    ty = fivetypes[i]\n",
    "    for j in range(len(fivedata)-1):\n",
    "        padf = fivedata[j]\n",
    "        past = len(padf.loc[padf[\"U_HEAT_TYP\"] == ty].index)\n",
    "        cudf = fivedata[j+1]\n",
    "        curr = len(cudf.loc[cudf[\"U_HEAT_TYP\"] == ty].index)\n",
    "        rateo = '{:.2%}'.format((curr-past)/past)\n",
    "        rate[i].append(rateo)\n",
    "    #calculate the 2014 and 2018\n",
    "    padf = fivedata[0]\n",
    "    past = len(padf.loc[padf[\"U_HEAT_TYP\"] == ty].index)\n",
    "    cudf = fivedata[4]\n",
    "    curr = len(cudf.loc[cudf[\"U_HEAT_TYP\"] == ty].index)\n",
    "    rateo = '{:.2%}'.format((curr-past)/past)\n",
    "    rate[i].append(rateo)\n",
    "    \n",
    "print(rateofs)"
   ]
  },
  {
   "cell_type": "code",
   "execution_count": 42,
   "metadata": {},
   "outputs": [
    {
     "data": {
      "text/plain": [
       "[['Space Heater', '-0.97%', '-0.98%', '-0.99%', '-4.00%', '-6.80%'],\n",
       " ['Hot Water', '-1.18%', '-1.12%', '-0.75%', '-0.49%', '-3.49%'],\n",
       " ['Electric', '-0.97%', '-0.08%', '-0.25%', '-0.23%', '-1.53%'],\n",
       " ['Heat Pump', '-0.27%', '0.32%', '0.34%', '-0.58%', '-0.20%'],\n",
       " ['Forced Air', '5.14%', '3.24%', '5.22%', '6.95%', '22.15%']]"
      ]
     },
     "execution_count": 42,
     "metadata": {},
     "output_type": "execute_result"
    }
   ],
   "source": [
    "rate"
   ]
  },
  {
   "cell_type": "code",
   "execution_count": 40,
   "metadata": {},
   "outputs": [
    {
     "data": {
      "text/plain": [
       "['Total Unique Parcel ID', '1.17%', '0.64%', '1.03%', '1.16%', '4.06%']"
      ]
     },
     "execution_count": 40,
     "metadata": {},
     "output_type": "execute_result"
    }
   ],
   "source": [
    "percents = [\"Total Unique Parcel ID\"]\n",
    "for i in range(len(fivedata)-1):\n",
    "    if i == 0:\n",
    "        past = len(fivedata[i].Parcel_ID.unique())\n",
    "    else:\n",
    "        past = len(fivedata[i].PID.unique())\n",
    "        \n",
    "    current = len(fivedata[i+1].PID.unique())\n",
    "    percent = '{:.2%}'.format((current-past)/past)\n",
    "    percents.append(percent)\n",
    "past0 = len(fivedata[0].Parcel_ID.unique())\n",
    "current0 = len(fivedata[4].PID.unique())\n",
    "percent = '{:.2%}'.format((current0-past0)/past0)\n",
    "percents.append(percent)\n",
    "\n",
    "percents"
   ]
  },
  {
   "cell_type": "code",
   "execution_count": 43,
   "metadata": {},
   "outputs": [
    {
     "data": {
      "text/html": [
       "<div>\n",
       "<style scoped>\n",
       "    .dataframe tbody tr th:only-of-type {\n",
       "        vertical-align: middle;\n",
       "    }\n",
       "\n",
       "    .dataframe tbody tr th {\n",
       "        vertical-align: top;\n",
       "    }\n",
       "\n",
       "    .dataframe thead th {\n",
       "        text-align: right;\n",
       "    }\n",
       "</style>\n",
       "<table border=\"1\" class=\"dataframe\">\n",
       "  <thead>\n",
       "    <tr style=\"text-align: right;\">\n",
       "      <th></th>\n",
       "      <th>0</th>\n",
       "      <th>1</th>\n",
       "      <th>2</th>\n",
       "      <th>3</th>\n",
       "      <th>4</th>\n",
       "      <th>5</th>\n",
       "    </tr>\n",
       "  </thead>\n",
       "  <tbody>\n",
       "    <tr>\n",
       "      <th>0</th>\n",
       "      <td>Condo Heat TYPE</td>\n",
       "      <td>2014-2015</td>\n",
       "      <td>2015-2016</td>\n",
       "      <td>2016-2017</td>\n",
       "      <td>2017-2018</td>\n",
       "      <td>2014-2018</td>\n",
       "    </tr>\n",
       "    <tr>\n",
       "      <th>1</th>\n",
       "      <td>Space Heater</td>\n",
       "      <td>-0.97%</td>\n",
       "      <td>-0.98%</td>\n",
       "      <td>-0.99%</td>\n",
       "      <td>-4.00%</td>\n",
       "      <td>-6.80%</td>\n",
       "    </tr>\n",
       "    <tr>\n",
       "      <th>2</th>\n",
       "      <td>Hot Water</td>\n",
       "      <td>-1.18%</td>\n",
       "      <td>-1.12%</td>\n",
       "      <td>-0.75%</td>\n",
       "      <td>-0.49%</td>\n",
       "      <td>-3.49%</td>\n",
       "    </tr>\n",
       "    <tr>\n",
       "      <th>3</th>\n",
       "      <td>Electric</td>\n",
       "      <td>-0.97%</td>\n",
       "      <td>-0.08%</td>\n",
       "      <td>-0.25%</td>\n",
       "      <td>-0.23%</td>\n",
       "      <td>-1.53%</td>\n",
       "    </tr>\n",
       "    <tr>\n",
       "      <th>4</th>\n",
       "      <td>Heat Pump</td>\n",
       "      <td>-0.27%</td>\n",
       "      <td>0.32%</td>\n",
       "      <td>0.34%</td>\n",
       "      <td>-0.58%</td>\n",
       "      <td>-0.20%</td>\n",
       "    </tr>\n",
       "    <tr>\n",
       "      <th>5</th>\n",
       "      <td>Forced Air</td>\n",
       "      <td>5.14%</td>\n",
       "      <td>3.24%</td>\n",
       "      <td>5.22%</td>\n",
       "      <td>6.95%</td>\n",
       "      <td>22.15%</td>\n",
       "    </tr>\n",
       "    <tr>\n",
       "      <th>6</th>\n",
       "      <td>Total Unique Parcel ID</td>\n",
       "      <td>1.17%</td>\n",
       "      <td>0.64%</td>\n",
       "      <td>1.03%</td>\n",
       "      <td>1.16%</td>\n",
       "      <td>4.06%</td>\n",
       "    </tr>\n",
       "  </tbody>\n",
       "</table>\n",
       "</div>"
      ],
      "text/plain": [
       "                        0          1          2          3          4  \\\n",
       "0         Condo Heat TYPE  2014-2015  2015-2016  2016-2017  2017-2018   \n",
       "1            Space Heater     -0.97%     -0.98%     -0.99%     -4.00%   \n",
       "2               Hot Water     -1.18%     -1.12%     -0.75%     -0.49%   \n",
       "3                Electric     -0.97%     -0.08%     -0.25%     -0.23%   \n",
       "4               Heat Pump     -0.27%      0.32%      0.34%     -0.58%   \n",
       "5              Forced Air      5.14%      3.24%      5.22%      6.95%   \n",
       "6  Total Unique Parcel ID      1.17%      0.64%      1.03%      1.16%   \n",
       "\n",
       "           5  \n",
       "0  2014-2018  \n",
       "1     -6.80%  \n",
       "2     -3.49%  \n",
       "3     -1.53%  \n",
       "4     -0.20%  \n",
       "5     22.15%  \n",
       "6      4.06%  "
      ]
     },
     "execution_count": 43,
     "metadata": {},
     "output_type": "execute_result"
    }
   ],
   "source": [
    "import tables\n",
    "from tables import *\n",
    "import sys\n",
    "from astropy.table import Table\n",
    "\n",
    "t2 = [[\"Condo Heat TYPE\", \"2014-2015\", \"2015-2016\", \"2016-2017\", \"2017-2018\", \"2014-2018\"]]\n",
    "for i in rate:\n",
    "    t2.append(i)\n",
    "\n",
    "t2.append(percents)\n",
    "# from top to bottom \n",
    "# Space Water\n",
    "# Hot Water\n",
    "# Electric\n",
    "# Heat Pump\n",
    "# Forced Air\n",
    "pd.DataFrame(t2)"
   ]
  },
  {
   "cell_type": "code",
   "execution_count": 44,
   "metadata": {
    "collapsed": true
   },
   "outputs": [],
   "source": [
    "t2 = pd.DataFrame(t2)\n",
    "t2.to_clipboard()"
   ]
  }
 ],
 "metadata": {
  "kernelspec": {
   "display_name": "Python 3",
   "language": "python",
   "name": "python3"
  },
  "language_info": {
   "codemirror_mode": {
    "name": "ipython",
    "version": 3
   },
   "file_extension": ".py",
   "mimetype": "text/x-python",
   "name": "python",
   "nbconvert_exporter": "python",
   "pygments_lexer": "ipython3",
   "version": "3.6.3"
  }
 },
 "nbformat": 4,
 "nbformat_minor": 2
}
