{
 "cells": [
  {
   "cell_type": "markdown",
   "metadata": {},
   "source": [
    "# CS 506 Final Project Solar Histogram"
   ]
  },
  {
   "cell_type": "markdown",
   "metadata": {},
   "source": [
    "CS 506 Spring 2018\n",
    "\n",
    "Team: \n",
    "\n",
    "Jason Lu (jasonlu6@bu.edu)\n",
    "\n",
    "Hugh Qu (hughfang@bu.edu)\n",
    "\n",
    "Zixin \"Cindy\" Ding (cindydxz@bu.edu)"
   ]
  },
  {
   "cell_type": "markdown",
   "metadata": {},
   "source": [
    "This code is used to generate a histogram in order to determine which communities are not benefitting from energy efficient systems. The x-axis shows the zip codes for each building parcel, whereas the y-axis shows the solar capacity usage (in kW, kilowatts), and the legend shows the occupancy type (according to the Parcel Data Set Key). \n",
    "\n",
    "The steps creating the histogram are:  \n",
    "\n",
    "1) We parse the building permits CSV file \n",
    "\n",
    "2) Open the building permits csv file for solar panel text extraction\n",
    "\n",
    "3) Groupby the zipcode, and extract the worktypes that only contain the regular expression string \"SOL\"\n",
    "\n",
    "4) Create a \"masking\" dataframe that only contain the columns \"Comments\", \"OCCUPANCYTYPE\", \"ZIP\". \n",
    "\n",
    "6) Filter out with regular expressions that \"SOL\" worktypes that only contain \"kW\" (for solar capacity)\n",
    "\n",
    "7) Replace all \"-\" with empty space (cleaning up the data)  \n",
    "\n",
    "8) Concatenate all of the \"OCCUPANCYTYPE\" and \"ZIP\" for the columns of the histogram \n",
    "\n",
    "9) Group by the \"OCCUPANCYTYPE\" and \"ZIP\" of the histogram. \n",
    "\n",
    "10) Plot the histogram "
   ]
  },
  {
   "cell_type": "code",
   "execution_count": 3,
   "metadata": {},
   "outputs": [
    {
     "name": "stderr",
     "output_type": "stream",
     "text": [
      "/anaconda3/lib/python3.6/site-packages/IPython/core/interactiveshell.py:2698: DtypeWarning: Columns (17) have mixed types. Specify dtype option on import or set low_memory=False.\n",
      "  interactivity=interactivity, compiler=compiler, result=result)\n"
     ]
    },
    {
     "data": {
      "image/png": "[encoded data removed]",
      "text/plain": [
       "<matplotlib.figure.Figure at 0x10a0f8b00>"
      ]
     },
     "metadata": {},
     "output_type": "display_data"
    }
   ],
   "source": [
    "# import for dataframe and plots\n",
    "import matplotlib.pyplot as plt \n",
    "import pandas as pd\n",
    "\n",
    "# filter out for only 'SOL' and print out the comments corresponding \n",
    "work = pd.read_csv('buildingpermits.csv',encoding='latin-1')\n",
    "d=work.groupby(['ZIP']).sum()\n",
    "solar_mask = work[work['WORKTYPE'].str.contains(\"SOL\")]\n",
    "\n",
    "# reading the columns with only 'SOL' from worktype and corresponding comments \n",
    "# print out the capacity of the solar panels / energy systems \n",
    "# getting only the worktype and comments \n",
    "solar_filter = solar_mask[['Comments','OCCUPANCYTYPE','ZIP']]\n",
    "y = solar_filter['Comments'].str.findall(\"(\\S+)kW\")\n",
    "y1 = y.str[0].str.replace(\"-\",\"\")\n",
    "y2 = pd.to_numeric(y1,errors='coerce')\n",
    "p = pd.concat([solar_filter['OCCUPANCYTYPE'], y2,solar_mask['ZIP']], axis=1)\n",
    "m = p[p['Comments'].notnull()]\n",
    "m.columns = [m.columns[0], 'kW', m.columns[2]]\n",
    "n = m.groupby(['ZIP','OCCUPANCYTYPE']).sum().unstack(fill_value=0)\n",
    "n\n",
    "\n",
    "# plot\n",
    "n['kW'].plot(kind='bar', width=3)\n",
    "plt.title(\"Histogram for Solar Panel Usage\")\n",
    "plt.ylabel(\"kW\")\n",
    "plt.show()"
   ]
  },
  {
   "cell_type": "code",
   "execution_count": null,
   "metadata": {
    "collapsed": true
   },
   "outputs": [],
   "source": []
  }
 ],
 "metadata": {
  "kernelspec": {
   "display_name": "Python 3",
   "language": "python",
   "name": "python3"
  },
  "language_info": {
   "codemirror_mode": {
    "name": "ipython",
    "version": 3
   },
   "file_extension": ".py",
   "mimetype": "text/x-python",
   "name": "python",
   "nbconvert_exporter": "python",
   "pygments_lexer": "ipython3",
   "version": "3.6.3"
  }
 },
 "nbformat": 4,
 "nbformat_minor": 2
}
