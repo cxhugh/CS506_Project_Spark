{
 "cells": [
  {
   "cell_type": "markdown",
   "metadata": {},
   "source": [
    "### Solar Panel Regular Expressions"
   ]
  },
  {
   "cell_type": "markdown",
   "metadata": {},
   "source": [
    "CS 506 Spring 2018\n",
    "\n",
    "Team: \n",
    "\n",
    "Jason Lu (jasonlu6@bu.edu)\n",
    "\n",
    "Fang \"Hugh\" Qu (hughqu@bu.edu)\n",
    "\n",
    "Zixin \"Cindy\" Ding (cindydxz@bu.edu)"
   ]
  },
  {
   "cell_type": "code",
   "execution_count": 46,
   "metadata": {
    "collapsed": true
   },
   "outputs": [],
   "source": [
    "# imports \n",
    "import json\n",
    "import csv \n",
    "import pandas as pd\n",
    "from pandas import DataFrame as Df\n",
    "\n",
    "# clustering imports \n",
    "from sklearn.cluster import KMeans\n",
    "from sklearn import mixture\n",
    "import scipy.cluster.hierarchy as hierarchy\n",
    "import sklearn.metrics as metrics\n",
    "from sklearn.preprocessing import MinMaxScaler\n",
    "\n",
    "# plotting imports \n",
    "import sklearn.cluster \n",
    "import matplotlib \n",
    "import numpy as np\n",
    "import scipy as sp\n",
    "import matplotlib.pyplot as plt"
   ]
  },
  {
   "cell_type": "markdown",
   "metadata": {},
   "source": [
    "# Source Code:"
   ]
  },
  {
   "cell_type": "code",
   "execution_count": 47,
   "metadata": {
    "collapsed": true
   },
   "outputs": [],
   "source": [
    "# sources: \n",
    "\n",
    "# (json.dumps):\n",
    "# https://stackoverflow.com/questions/19697846/how-to-convert-csv-file-to-multiline-json\n",
    "\n",
    "# (avoid the UTF-8 encoding error):\n",
    "# https://stackoverflow.com/questions/5552555/unicodedecodeerror-invalid-continuation-byte\n",
    "\n",
    "# (TFDIF Vectorizer and Histogram Count Vectorizer for frequency of words in comments):\n",
    "# https://stackoverflow.com/questions/36572221/how-to-find-ngram-frequency-of-a-column-in-a-pandas-dataframe\n",
    "\n",
    "# creating the master database (create and read CSV)\n",
    "# https://pythonspot.com/files-spreadsheets-csv/\n",
    "\n",
    "# deal with error larger than field limit problem\n",
    "# https://stackoverflow.com/questions/15063936/\n",
    "# csv-error-field-larger-than-field-limit-131072\n",
    "\n",
    "# avoid the \"np.nan is an invalid document, expected byte or unicode string\" Value Type error \n",
    "# https://stackoverflow.com/questions/39303912/\n",
    "# tfidfvectorizer-in-scikit-learn-valueerror-np-nan-is-an-invalid-document\n",
    "\n",
    "# counter object for the histogram frequency \n",
    "# https://stackoverflow.com/questions/22303554/words-frequency-using-pandas-and-matplotlib\n",
    "\n",
    "# counting unique values in a list\n",
    "# https://stackoverflow.com/questions/12282232/\n",
    "# how-do-i-count-unique-values-inside-an-array-in-python\n",
    "\n",
    "# plotting a frequency histogram\n",
    "# https://stackoverflow.com/questions/45080698/\n",
    "# make-frequency-histogram-from-list-with-tuple-elements\n",
    "\n",
    "# selecting rows from dataframe using only a specified column value \n",
    "# (masking method)\n",
    "# https://stackoverflow.com/questions/17071871/\n",
    "# select-rows-from-a-dataframe-based-on-values-in-a-column-in-pandas\n",
    "\n",
    "# filtering rows containing a string pattern / regex in pandas dataframe \n",
    "# https://stackoverflow.com/questions/27975069/\n",
    "# how-to-filter-rows-containing-a-string-pattern-from-a-pandas-dataframe\n",
    "\n",
    "# regular expression: extract a data type from string in pandas \n",
    "# https://stackoverflow.com/questions/35376387/extract-int-from-string-in-pandas"
   ]
  },
  {
   "cell_type": "markdown",
   "metadata": {},
   "source": [
    "This code is used to parse the assessor CSV file and building permits CSV file in order to \n",
    "extract the solar capacity of each parcel in Boston based on zip codes. It is required to answer\n",
    "one of our project questions: \n",
    "\n",
    "What communities are not benefitting from energy efficient systems? \n",
    "\n",
    "The steps to extracting\n",
    "the solar capacity are as follows: \n",
    "\n",
    "1) We parse the assessor CSV file \n",
    "\n",
    "2) We parse the building permits CSV file \n",
    "\n",
    "3) Open the building permits csv file for solar panel text extraction\n",
    "\n",
    "4) Get only the worktype of each csv file \n",
    "\n",
    "5) We then filter out only for 'SOL' worktype and print out the corresponding commments\n",
    "\n",
    "6) Drop NaN values (for cleaning the data)\n",
    "\n",
    "7) Get all of the comments into a list format \n",
    "\n",
    "8) We use regular expression to filter each comment from solar panel description\n",
    "\n",
    "9) We then get only comments with kilowatts (which will contain information for solar capacity)\n",
    "\n",
    "10) Saved data to a CSV file "
   ]
  },
  {
   "cell_type": "code",
   "execution_count": 48,
   "metadata": {},
   "outputs": [],
   "source": [
    "# parse the assessor CSV file (ast2018full.csv)\n",
    "index = 0\n",
    "pid_index = {}\n",
    "master_list = {}\n",
    "# attributes in master database \n",
    "attr = ['parcel_id','zipcode','land_use','avg_total','living_area',\n",
    "        'heat_type','r_ac','comments','longitude','latitude']\n",
    "\n",
    "with open('ast2018full.csv',encoding='latin-1') as fp:\n",
    "    a_reader = csv.reader(fp, dialect='excel')\n",
    "    n = next(a_reader,None)\n",
    "    for row in a_reader:\n",
    "        try:\n",
    "            pid_index[row[0].lstrip(\"0\")] \n",
    "        except KeyError:\n",
    "            # create new data \n",
    "            master_list[index] = {}\n",
    "            master_list[index] = {attr[0]: row[0],attr[1]: row[7],\n",
    "                              attr[2]:row[9],attr[3]:row[18],\n",
    "                              attr[4]:row[24],attr[5]:row[41],\n",
    "                              attr[6]:row[42]}\n",
    "            pid_index[row[0].lstrip(\"0\")] = index\n",
    "            index += 1\n",
    "        else:\n",
    "            # overwrite existing data \n",
    "            p_index = pid_index[row[0].lstrip(\"0\")]\n",
    "            master_list[p_index] = {attr[0]: row[0],attr[1]: row[7],\n",
    "                              attr[2]:row[9],attr[3]:row[18],\n",
    "                              attr[4]:row[24],attr[5]:row[41],\n",
    "                              attr[6]:row[42]}\n",
    "fp.close()"
   ]
  },
  {
   "cell_type": "code",
   "execution_count": 49,
   "metadata": {},
   "outputs": [],
   "source": [
    "# parse the buildingpermits.csv file \n",
    "with open('buildingpermits.csv',newline='',encoding='latin-1') as assess_file:\n",
    "    assess_reader = csv.reader(assess_file, dialect='excel')\n",
    "    n = next(assess_reader,None)\n",
    "    for row in assess_reader:\n",
    "        try:\n",
    "            pid_index[row[19].lstrip(\"0\")] \n",
    "        except KeyError:\n",
    "            # drop the data if parcel id not found in \n",
    "            # assessor database \n",
    "            pass\n",
    "        else:\n",
    "            # append information from building database to master database \n",
    "            index = pid_index[row[19].lstrip(\"0\")]\n",
    "            try:\n",
    "                master_list[index][attr[7]]\n",
    "            except KeyError:\n",
    "                # if comment does not exist, add new comment \n",
    "                master_list[index][attr[7]] = row[4].replace('\\t',' ').replace('\\r',' ')\n",
    "            else:\n",
    "                # if comment exists, append comments \n",
    "                master_list[index][attr[7]] += \" \" + row[4].replace('\\t',' ').replace('\\r',' ')\n",
    "            if row[20] != '':\n",
    "                # get latitude and longitude from the location\n",
    "                loc = row[20].lstrip('(').rstrip(')').split(',')\n",
    "                master_list[index][attr[8]] = loc[0].replace(' ','')\n",
    "                master_list[index][attr[9]] = loc[1].replace(' ','')\n",
    "assess_file.close()"
   ]
  },
  {
   "cell_type": "code",
   "execution_count": 50,
   "metadata": {
    "collapsed": true
   },
   "outputs": [],
   "source": [
    "# import for dataframe and plots\n",
    "import matplotlib.pyplot as plt \n",
    "import pandas as pd \n",
    "from pandas import DataFrame as Df"
   ]
  },
  {
   "cell_type": "code",
   "execution_count": 51,
   "metadata": {},
   "outputs": [
    {
     "name": "stderr",
     "output_type": "stream",
     "text": [
      "/anaconda3/lib/python3.6/site-packages/IPython/core/interactiveshell.py:2698: DtypeWarning: Columns (17) have mixed types. Specify dtype option on import or set low_memory=False.\n",
      "  interactivity=interactivity, compiler=compiler, result=result)\n"
     ]
    }
   ],
   "source": [
    "# filter out for only 'SOL' and print out the comments corresponding \n",
    "work = pd.read_csv('buildingpermits.csv',encoding='latin-1')\n",
    "# work "
   ]
  },
  {
   "cell_type": "code",
   "execution_count": 52,
   "metadata": {},
   "outputs": [],
   "source": [
    "# avoid reading in NaN values \n",
    "filter_work = work[work['WORKTYPE'].notnull()]\n",
    "filter_work = filter_work[filter_work['Comments'].notnull()]\n",
    "# filter_work.head(10)"
   ]
  },
  {
   "cell_type": "code",
   "execution_count": 53,
   "metadata": {},
   "outputs": [],
   "source": [
    "# reading the columns with only 'SOL' from worktype and corresponding comments \n",
    "# print out the capacity of the solar panels / energy systems \n",
    "\n",
    "# getting only the worktype and comments \n",
    "string_mask = filter_work[['WORKTYPE','Comments']]\n",
    "string_mask\n",
    "\n",
    "# filtering the worktype for 'SOL' only \n",
    "\n",
    "# regex expression of str.contains()\n",
    "solar_mask = filter_work[filter_work['WORKTYPE'].str.contains(\"SOL*\")]\n",
    "# solar_mask"
   ]
  },
  {
   "cell_type": "code",
   "execution_count": 54,
   "metadata": {
    "collapsed": true
   },
   "outputs": [],
   "source": [
    "# imports \n",
    "# regular expression import \n",
    "import re\n",
    "# import pandas \n",
    "import pandas as pd "
   ]
  },
  {
   "cell_type": "code",
   "execution_count": 55,
   "metadata": {},
   "outputs": [],
   "source": [
    "# get all of the comments into a list format \n",
    "df = solar_mask['Comments']\n",
    "# df\n",
    "\n",
    "solar_filter = filter_work[filter_work['Comments'].str.contains(\"solar*\")]\n",
    "# solar_filter"
   ]
  },
  {
   "cell_type": "code",
   "execution_count": 56,
   "metadata": {},
   "outputs": [
    {
     "name": "stderr",
     "output_type": "stream",
     "text": [
      "/anaconda3/lib/python3.6/site-packages/ipykernel_launcher.py:2: FutureWarning: currently extract(expand=None) means expand=False (return Index/Series/DataFrame) but in a future version of pandas this will be changed to expand=True (return DataFrame)\n",
      "  \n"
     ]
    }
   ],
   "source": [
    "# extraction step for all float values \n",
    "extract = solar_filter['Comments'].str.extract('(\\d+)').astype(float)\n",
    "# filter out the NaNs \n",
    "extract_filter = solar_filter['Comments'].dropna()"
   ]
  },
  {
   "cell_type": "code",
   "execution_count": 57,
   "metadata": {},
   "outputs": [
    {
     "data": {
      "text/plain": [
       "109             [9.6]\n",
       "414       [31.2, 7.5]\n",
       "2617               []\n",
       "2634               []\n",
       "2667          [27.69]\n",
       "2897           [67.2]\n",
       "2901               []\n",
       "2925               []\n",
       "2944         [195.84]\n",
       "3056               []\n",
       "3066               []\n",
       "3118               []\n",
       "3145          [24.48]\n",
       "3346               []\n",
       "3365               []\n",
       "3366               []\n",
       "3375               []\n",
       "3376               []\n",
       "3377               []\n",
       "3378               []\n",
       "3379               []\n",
       "3380               []\n",
       "3381               []\n",
       "3382               []\n",
       "3383               []\n",
       "3384               []\n",
       "3385               []\n",
       "3388               []\n",
       "3389               []\n",
       "3390               []\n",
       "             ...     \n",
       "354925             []\n",
       "354939         [9.57]\n",
       "355071         [4.02]\n",
       "355087        [4.060]\n",
       "355256         [6.38]\n",
       "355258         [2.23]\n",
       "355305         [3.77]\n",
       "355355         [3.92]\n",
       "355357         [6.44]\n",
       "355373         [2.95]\n",
       "355402        [11.21]\n",
       "355408          [8.4]\n",
       "355441        [3.245]\n",
       "355458         [6.09]\n",
       "355469             []\n",
       "355511         [5.32]\n",
       "355629             []\n",
       "355743         [7.92]\n",
       "355753             []\n",
       "355759         [4.93]\n",
       "355899         [3.64]\n",
       "355905         [9.15]\n",
       "355940          [5.7]\n",
       "356004         [8.12]\n",
       "356073          [4.2]\n",
       "356189         [7.08]\n",
       "356413             []\n",
       "356737             []\n",
       "358087             []\n",
       "359044             []\n",
       "Name: Comments, Length: 4043, dtype: object"
      ]
     },
     "execution_count": 57,
     "metadata": {},
     "output_type": "execute_result"
    }
   ],
   "source": [
    "import re\n",
    "\n",
    "#get only comments with kilowatts \n",
    "\n",
    "# only decimal values for the kilowatts \n",
    "# drop NaN values and empty lists \n",
    "kw_extract = extract_filter.str.findall('\\d+\\.\\d+').dropna()\n",
    "kw_extract"
   ]
  },
  {
   "cell_type": "code",
   "execution_count": 58,
   "metadata": {},
   "outputs": [],
   "source": [
    "frame = pd.Series.to_frame(kw_extract)\n",
    "frame.to_csv(\"kw.csv\")"
   ]
  }
 ],
 "metadata": {
  "kernelspec": {
   "display_name": "Python 3",
   "language": "python",
   "name": "python3"
  },
  "language_info": {
   "codemirror_mode": {
    "name": "ipython",
    "version": 3
   },
   "file_extension": ".py",
   "mimetype": "text/x-python",
   "name": "python",
   "nbconvert_exporter": "python",
   "pygments_lexer": "ipython3",
   "version": "3.5.1"
  }
 },
 "nbformat": 4,
 "nbformat_minor": 2
}
